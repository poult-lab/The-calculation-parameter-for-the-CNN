{
 "cells": [
  {
   "cell_type": "markdown",
   "metadata": {},
   "source": [
    "## Writing CNNs from Scratch in Python\n",
    "### Importing the libraries\n",
    "Let's start by importing the required libraries and defining some variables:"
   ]
  },
  {
   "cell_type": "code",
   "execution_count": 1,
   "metadata": {},
   "outputs": [
    {
     "name": "stderr",
     "output_type": "stream",
     "text": [
      "/home/huawei/anaconda3/envs/IACT/lib/python3.8/site-packages/torchvision/io/image.py:13: UserWarning: Failed to load image Python extension: 'libc10_cuda.so: cannot open shared object file: No such file or directory'If you don't plan on using image functionality from `torchvision.io`, you can ignore this warning. Otherwise, there might be something wrong with your environment. Did you have `libjpeg` or `libpng` installed before building `torchvision` from source?\n",
      "  warn(\n"
     ]
    }
   ],
   "source": [
    "# Load in relevant libraries, and alias where appropriate\n",
    "import torch\n",
    "import torch.nn as nn\n",
    "import torchvision\n",
    "import torchvision.transforms as transforms\n",
    "\n",
    "# Define relevant variables for the ML task\n",
    "batch_size = 64\n",
    "num_classes = 10\n",
    "learning_rate = 0.001\n",
    "num_epochs = 20\n",
    "\n",
    "# Device will determine whether to run the training on GPU or CPU.\n",
    "device = torch.device('cuda' if torch.cuda.is_available() else 'cpu')\n",
    "print(\"This is the using device: \", device)"
   ]
  },
  {
   "cell_type": "markdown",
   "metadata": {},
   "source": [
    "### Dataset Loading"
   ]
  },
  {
   "cell_type": "code",
   "execution_count": 2,
   "metadata": {},
   "outputs": [
    {
     "name": "stdout",
     "output_type": "stream",
     "text": [
      "Downloading https://www.cs.toronto.edu/~kriz/cifar-10-python.tar.gz to ./data/cifar-10-python.tar.gz\n"
     ]
    },
    {
     "name": "stderr",
     "output_type": "stream",
     "text": [
      "100%|██████████| 170498071/170498071 [00:29<00:00, 5738059.15it/s]\n"
     ]
    },
    {
     "name": "stdout",
     "output_type": "stream",
     "text": [
      "Extracting ./data/cifar-10-python.tar.gz to ./data\n",
      "Files already downloaded and verified\n"
     ]
    }
   ],
   "source": [
    "# Use transforms.compose method to reformat images for modeling,\n",
    "# and save to variable all_transforms for later use\n",
    "all_transforms = transforms.Compose([transforms.Resize((32,32)),\n",
    "                                     transforms.ToTensor(),\n",
    "                                     transforms.Normalize(mean=[0.4914, 0.4822, 0.4465],\n",
    "                                                          std=[0.2023, 0.1994, 0.2010])\n",
    "                                     ])\n",
    "\n",
    "# Create Training dataset\n",
    "train_dataset = torchvision.datasets.CIFAR10(root = './data',\n",
    "                                             train = True,\n",
    "                                             transform = all_transforms,\n",
    "                                             download = True)\n",
    "\n",
    "# Create Testing dataset\n",
    "test_dataset = torchvision.datasets.CIFAR10(root = './data',\n",
    "                                            train = False,\n",
    "                                            transform = all_transforms,\n",
    "                                            download=True)\n",
    "\n",
    "# Instantiate loader objects to facilitate processing\n",
    "train_loader = torch.utils.data.DataLoader(dataset = train_dataset,\n",
    "                                           batch_size = batch_size,\n",
    "                                           shuffle = True)\n",
    "\n",
    "\n",
    "test_loader = torch.utils.data.DataLoader(dataset = test_dataset,\n",
    "                                           batch_size = batch_size,\n",
    "                                           shuffle = True)"
   ]
  },
  {
   "cell_type": "markdown",
   "metadata": {},
   "source": [
    "### CNNs From Scratch"
   ]
  },
  {
   "cell_type": "markdown",
   "metadata": {},
   "source": [
    "#### Formula\n",
    "The amount of patameter = ((Kernal_size_width x kernal_size_height X input_channel_from_first_layer) + 1) X output_channel_from_first_layer + ((Kernal_size_width x kernal_size_height X input_channel_from_second_layer) + 1) X output_channel_from_second_layer +...+fully layer\n",
    "\n",
    "fully layer followes general neural network"
   ]
  },
  {
   "cell_type": "code",
   "execution_count": 26,
   "metadata": {},
   "outputs": [
    {
     "name": "stdout",
     "output_type": "stream",
     "text": [
      "This is the trainable parameter: 271786\n"
     ]
    }
   ],
   "source": [
    "import torch\n",
    "import torch.nn as nn\n",
    "\n",
    "num_classes = 10\n",
    "\n",
    "# Creating a CNN class\n",
    "class ConvNeuralNet(nn.Module):\n",
    "    #  Determine what layers and their order in CNN object\n",
    "    def __init__(self, num_classes):\n",
    "        super(ConvNeuralNet, self).__init__()\n",
    "        self.conv_layer1 = nn.Conv2d(in_channels=3, out_channels=32, kernel_size=3)\n",
    "        self.conv_layer2 = nn.Conv2d(in_channels=32, out_channels=32, kernel_size=3)\n",
    "        self.max_pool1 = nn.MaxPool2d(kernel_size = 2, stride = 2)\n",
    "        \n",
    "        self.conv_layer3 = nn.Conv2d(in_channels=32, out_channels=64, kernel_size=3)\n",
    "        self.conv_layer4 = nn.Conv2d(in_channels=64, out_channels=64, kernel_size=3)\n",
    "        self.max_pool2 = nn.MaxPool2d(kernel_size = 2, stride = 2) \n",
    "        # the size of output:(64x5x5)\n",
    "        \n",
    "        self.fc1 = nn.Linear(1600, 128)\n",
    "        self.relu1 = nn.ReLU()\n",
    "        self.fc2 = nn.Linear(128, num_classes)\n",
    "    \n",
    "    # Progresses data across layers    \n",
    "    def forward(self, x):\n",
    "        print(\"This is the original shape:\", x.shape)\n",
    "        out = self.conv_layer1(x)\n",
    "        print(\"After 1 layer shape:\", out.shape)\n",
    "        out = self.conv_layer2(out)\n",
    "        print(\"After 2 layer shape:\", out.shape)\n",
    "        out = self.max_pool1(out)\n",
    "        print(\"After pool1 shape:\", out.shape)\n",
    "        out = self.conv_layer3(out)\n",
    "        print(\"After 3 layer shape:\", out.shape)\n",
    "        out = self.conv_layer4(out)\n",
    "        print(\"After 4 layer shape:\", out.shape)\n",
    "        out = self.max_pool2(out)\n",
    "        print(\"After pool2 shape:\", out.shape)\n",
    "\n",
    "        out = out.reshape(1,-1)\n",
    "        print(\"After re-shape:\", out.shape)\n",
    "        out = self.fc1(out)\n",
    "        print(\"After fully-layer 1 shape:\", out.shape)\n",
    "        out = self.relu1(out)\n",
    "        out = self.fc2(out)\n",
    "        print(\"After fully-layer 2 shape:\", out.shape)\n",
    "        return out\n",
    "    \n",
    "model = ConvNeuralNet(num_classes)    \n",
    "trainable_params = sum(p.numel() for p in model.parameters() if p.requires_grad)\n",
    "print(\"This is the trainable parameter:\",trainable_params)\n",
    "\n",
    "# tensor_32x32_int = torch.randint(0, 10, (3, 32, 32))\n",
    "# output=model(tensor_32x32_int.float())\n",
    "# print(output.shape)\n"
   ]
  },
  {
   "cell_type": "markdown",
   "metadata": {},
   "source": [
    "### Setting Hyperparameters"
   ]
  },
  {
   "cell_type": "code",
   "execution_count": 4,
   "metadata": {},
   "outputs": [],
   "source": [
    "model = ConvNeuralNet(num_classes)\n",
    "\n",
    "if torch.cuda.is_available():\n",
    "    model.cuda()\n",
    "\n",
    "# Set Loss function with criterion\n",
    "criterion = nn.CrossEntropyLoss()\n",
    "\n",
    "# Set optimizer with optimizer\n",
    "optimizer = torch.optim.SGD(model.parameters(), lr=learning_rate, weight_decay = 0.005, momentum = 0.9)  \n",
    "\n",
    "total_step = len(train_loader)"
   ]
  },
  {
   "cell_type": "markdown",
   "metadata": {},
   "source": [
    "### Training"
   ]
  },
  {
   "cell_type": "code",
   "execution_count": 5,
   "metadata": {},
   "outputs": [
    {
     "name": "stdout",
     "output_type": "stream",
     "text": [
      "Epoch [1/20], Loss: 1.4448\n",
      "Epoch [2/20], Loss: 1.4486\n",
      "Epoch [3/20], Loss: 1.1496\n",
      "Epoch [4/20], Loss: 0.6814\n",
      "Epoch [5/20], Loss: 0.8725\n",
      "Epoch [6/20], Loss: 1.1217\n",
      "Epoch [7/20], Loss: 0.9020\n",
      "Epoch [8/20], Loss: 1.5773\n",
      "Epoch [9/20], Loss: 0.8536\n",
      "Epoch [10/20], Loss: 0.5001\n",
      "Epoch [11/20], Loss: 1.5807\n",
      "Epoch [12/20], Loss: 0.9483\n",
      "Epoch [13/20], Loss: 1.1236\n",
      "Epoch [14/20], Loss: 0.6921\n",
      "Epoch [15/20], Loss: 0.8398\n",
      "Epoch [16/20], Loss: 0.6422\n",
      "Epoch [17/20], Loss: 0.7614\n",
      "Epoch [18/20], Loss: 0.7288\n",
      "Epoch [19/20], Loss: 0.4437\n",
      "Epoch [20/20], Loss: 0.1868\n"
     ]
    }
   ],
   "source": [
    "# We use the pre-defined number of epochs to determine how many iterations to train the network on\n",
    "for epoch in range(num_epochs):\n",
    "    #Load in the data in batches using the train_loader object\n",
    "    for i, (images, labels) in enumerate(train_loader):  \n",
    "        # Move tensors to the configured device\n",
    "        images = images.to(device)\n",
    "        labels = labels.to(device)\n",
    "        \n",
    "        # Forward pass\n",
    "        outputs = model(images)\n",
    "        loss = criterion(outputs, labels)\n",
    "        \n",
    "        # Backward and optimize\n",
    "        optimizer.zero_grad()\n",
    "        loss.backward()\n",
    "        optimizer.step()\n",
    "\n",
    "    print('Epoch [{}/{}], Loss: {:.4f}'.format(epoch+1, num_epochs, loss.item()))\n"
   ]
  },
  {
   "cell_type": "markdown",
   "metadata": {},
   "source": [
    "### Testing"
   ]
  },
  {
   "cell_type": "code",
   "execution_count": 6,
   "metadata": {},
   "outputs": [
    {
     "name": "stdout",
     "output_type": "stream",
     "text": [
      "Accuracy of the network on the 50000 train images: 82.506 %\n"
     ]
    }
   ],
   "source": [
    "with torch.no_grad():\n",
    "    correct = 0\n",
    "    total = 0\n",
    "    for images, labels in train_loader:\n",
    "        images = images.to(device)\n",
    "        labels = labels.to(device)\n",
    "        outputs = model(images)\n",
    "        _, predicted = torch.max(outputs.data, 1)\n",
    "        total += labels.size(0)\n",
    "        correct += (predicted == labels).sum().item()\n",
    "    \n",
    "    print('Accuracy of the network on the {} train images: {} %'.format(50000, 100 * correct / total))\n",
    "\n"
   ]
  },
  {
   "cell_type": "code",
   "execution_count": 19,
   "metadata": {},
   "outputs": [
    {
     "name": "stdout",
     "output_type": "stream",
     "text": [
      "torch.Size([3, 32, 32])\n",
      "torch.Size([32, 30, 30])\n"
     ]
    }
   ],
   "source": [
    "import torch\n",
    "\n",
    "# Generate a 32x32 tensor with random integer values between 0 and 9\n",
    "tensor_32x32_int = torch.randint(0, 10, (3, 32, 32))\n",
    "\n",
    "print(tensor_32x32_int.shape)\n",
    "\n",
    "conv_layer1 = nn.Conv2d(in_channels=3, out_channels=32, kernel_size=3)\n",
    "output=conv_layer1(tensor_32x32_int.float())\n",
    "print(output.shape)"
   ]
  },
  {
   "cell_type": "markdown",
   "metadata": {},
   "source": [
    "## total"
   ]
  },
  {
   "cell_type": "code",
   "execution_count": 22,
   "metadata": {},
   "outputs": [
    {
     "name": "stdout",
     "output_type": "stream",
     "text": [
      "This is the using device:  cuda\n",
      "Files already downloaded and verified\n",
      "Files already downloaded and verified\n",
      "This is the original shape: torch.Size([64, 3, 32, 32])\n",
      "After 1 layer shape: torch.Size([64, 32, 30, 30])\n",
      "After 2 layer shape: torch.Size([64, 32, 28, 28])\n",
      "After pool1 shape: torch.Size([64, 32, 14, 14])\n",
      "After 3 layer shape: torch.Size([64, 64, 12, 12])\n",
      "After 4 layer shape: torch.Size([64, 64, 10, 10])\n",
      "After pool2 shape: torch.Size([64, 64, 5, 5])\n",
      "After re-shape: torch.Size([64, 1600])\n",
      "After fully-layer 1 shape: torch.Size([64, 128])\n",
      "After fully-layer 2 shape: torch.Size([64, 10])\n"
     ]
    }
   ],
   "source": [
    "# Load in relevant libraries, and alias where appropriate\n",
    "import torch\n",
    "import torch.nn as nn\n",
    "import torchvision\n",
    "import torchvision.transforms as transforms\n",
    "\n",
    "# Define relevant variables for the ML task\n",
    "batch_size = 64\n",
    "num_classes = 10\n",
    "learning_rate = 0.001\n",
    "num_epochs = 20\n",
    "\n",
    "# Device will determine whether to run the training on GPU or CPU.\n",
    "device = torch.device('cuda' if torch.cuda.is_available() else 'cpu')\n",
    "print(\"This is the using device: \", device)\n",
    "\n",
    "# Use transforms.compose method to reformat images for modeling,\n",
    "# and save to variable all_transforms for later use\n",
    "all_transforms = transforms.Compose([transforms.Resize((32,32)),\n",
    "                                     transforms.ToTensor(),\n",
    "                                     transforms.Normalize(mean=[0.4914, 0.4822, 0.4465],\n",
    "                                                          std=[0.2023, 0.1994, 0.2010])\n",
    "                                     ])\n",
    "\n",
    "# Create Training dataset\n",
    "train_dataset = torchvision.datasets.CIFAR10(root = './data',\n",
    "                                             train = True,\n",
    "                                             transform = all_transforms,\n",
    "                                             download = True)\n",
    "\n",
    "# Create Testing dataset\n",
    "test_dataset = torchvision.datasets.CIFAR10(root = './data',\n",
    "                                            train = False,\n",
    "                                            transform = all_transforms,\n",
    "                                            download=True)\n",
    "\n",
    "# Instantiate loader objects to facilitate processing\n",
    "train_loader = torch.utils.data.DataLoader(dataset = train_dataset,\n",
    "                                           batch_size = batch_size,\n",
    "                                           shuffle = True)\n",
    "\n",
    "\n",
    "test_loader = torch.utils.data.DataLoader(dataset = test_dataset,\n",
    "                                           batch_size = batch_size,\n",
    "                                           shuffle = True)\n",
    "\n",
    "# Creating a CNN class\n",
    "class ConvNeuralNet(nn.Module):\n",
    "    #  Determine what layers and their order in CNN object\n",
    "    def __init__(self, num_classes):\n",
    "        super(ConvNeuralNet, self).__init__()\n",
    "        self.conv_layer1 = nn.Conv2d(in_channels=3, out_channels=32, kernel_size=3)\n",
    "        self.conv_layer2 = nn.Conv2d(in_channels=32, out_channels=32, kernel_size=3)\n",
    "        self.max_pool1 = nn.MaxPool2d(kernel_size = 2, stride = 2)\n",
    "        \n",
    "        self.conv_layer3 = nn.Conv2d(in_channels=32, out_channels=64, kernel_size=3)\n",
    "        self.conv_layer4 = nn.Conv2d(in_channels=64, out_channels=64, kernel_size=3)\n",
    "        self.max_pool2 = nn.MaxPool2d(kernel_size = 2, stride = 2) \n",
    "        # the size of output:(64x5x5)\n",
    "        \n",
    "        self.fc1 = nn.Linear(1600, 128)\n",
    "        self.relu1 = nn.ReLU()\n",
    "        self.fc2 = nn.Linear(128, num_classes)\n",
    "    \n",
    "    # Progresses data across layers    \n",
    "    def forward(self, x):\n",
    "        print(\"This is the original shape:\", x.shape)\n",
    "        out = self.conv_layer1(x)\n",
    "        print(\"After 1 layer shape:\", out.shape)\n",
    "        out = self.conv_layer2(out)\n",
    "        print(\"After 2 layer shape:\", out.shape)\n",
    "        out = self.max_pool1(out)\n",
    "        print(\"After pool1 shape:\", out.shape)\n",
    "        out = self.conv_layer3(out)\n",
    "        print(\"After 3 layer shape:\", out.shape)\n",
    "        out = self.conv_layer4(out)\n",
    "        print(\"After 4 layer shape:\", out.shape)\n",
    "        out = self.max_pool2(out)\n",
    "        print(\"After pool2 shape:\", out.shape)\n",
    "\n",
    "        out = out.reshape(out.size(0), -1)\n",
    "        print(\"After re-shape:\", out.shape)\n",
    "        out = self.fc1(out)\n",
    "        print(\"After fully-layer 1 shape:\", out.shape)\n",
    "        out = self.relu1(out)\n",
    "        out = self.fc2(out)\n",
    "        print(\"After fully-layer 2 shape:\", out.shape)\n",
    "        return out\n",
    "    \n",
    "# model = ConvNeuralNet(num_classes)    \n",
    "# # trainable_params = sum(p.numel() for p in model.parameters() if p.requires_grad)\n",
    "# # print(\"This is the trainable parameter:\",trainable_params)\n",
    "\n",
    "# tensor_32x32_int = torch.randint(0, 10, (3, 32, 32))\n",
    "# output=model(tensor_32x32_int.float())\n",
    "# print(output.shape)\n",
    "\n",
    "\n",
    "model = ConvNeuralNet(num_classes)\n",
    "\n",
    "if torch.cuda.is_available():\n",
    "    model.cuda()\n",
    "\n",
    "# Set Loss function with criterion\n",
    "criterion = nn.CrossEntropyLoss()\n",
    "\n",
    "# Set optimizer with optimizer\n",
    "optimizer = torch.optim.SGD(model.parameters(), lr=learning_rate, weight_decay = 0.005, momentum = 0.9)  \n",
    "\n",
    "total_step = len(train_loader)\n",
    "\n",
    "\n",
    "# We use the pre-defined number of epochs to determine how many iterations to train the network on\n",
    "\n",
    "    #Load in the data in batches using the train_loader object\n",
    "for i, (images, labels) in enumerate(train_loader):  \n",
    "    if i==1:\n",
    "    # Move tensors to the configured device\n",
    "        images = images.to(device)\n",
    "        labels = labels.to(device)\n",
    "\n",
    "        # Forward pass\n",
    "        outputs = model(images)\n",
    "        loss = criterion(outputs, labels)\n",
    "\n",
    "        # Backward and optimize\n",
    "        optimizer.zero_grad()\n",
    "        loss.backward()\n",
    "        optimizer.step()\n",
    "\n"
   ]
  }
 ],
 "metadata": {
  "kernelspec": {
   "display_name": "IACT",
   "language": "python",
   "name": "python3"
  },
  "language_info": {
   "codemirror_mode": {
    "name": "ipython",
    "version": 3
   },
   "file_extension": ".py",
   "mimetype": "text/x-python",
   "name": "python",
   "nbconvert_exporter": "python",
   "pygments_lexer": "ipython3",
   "version": "3.8.18"
  }
 },
 "nbformat": 4,
 "nbformat_minor": 2
}
